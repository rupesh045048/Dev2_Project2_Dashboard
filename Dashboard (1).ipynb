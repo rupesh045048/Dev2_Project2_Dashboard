{
 "cells": [
  {
   "cell_type": "code",
   "execution_count": 1,
   "metadata": {
    "colab": {
     "base_uri": "https://localhost:8080/"
    },
    "id": "_SPyz_x9LZcb",
    "outputId": "0d8e8121-60bd-4caf-8f44-0d64d2108ec2"
   },
   "outputs": [
    {
     "name": "stdout",
     "output_type": "stream",
     "text": [
      "Requirement already satisfied: dash in c:\\users\\rupesh\\anaconda3\\lib\\site-packages (2.14.2)\n",
      "Requirement already satisfied: pandas in c:\\users\\rupesh\\anaconda3\\lib\\site-packages (2.1.4)\n",
      "Requirement already satisfied: plotly in c:\\users\\rupesh\\anaconda3\\lib\\site-packages (5.9.0)\n",
      "Requirement already satisfied: Flask<3.1,>=1.0.4 in c:\\users\\rupesh\\anaconda3\\lib\\site-packages (from dash) (2.2.5)\n",
      "Requirement already satisfied: Werkzeug<3.1 in c:\\users\\rupesh\\anaconda3\\lib\\site-packages (from dash) (2.2.3)\n",
      "Requirement already satisfied: dash-html-components==2.0.0 in c:\\users\\rupesh\\anaconda3\\lib\\site-packages (from dash) (2.0.0)\n",
      "Requirement already satisfied: dash-core-components==2.0.0 in c:\\users\\rupesh\\anaconda3\\lib\\site-packages (from dash) (2.0.0)\n",
      "Requirement already satisfied: dash-table==5.0.0 in c:\\users\\rupesh\\anaconda3\\lib\\site-packages (from dash) (5.0.0)\n",
      "Requirement already satisfied: typing-extensions>=4.1.1 in c:\\users\\rupesh\\anaconda3\\lib\\site-packages (from dash) (4.7.1)\n",
      "Requirement already satisfied: requests in c:\\users\\rupesh\\anaconda3\\lib\\site-packages (from dash) (2.31.0)\n",
      "Requirement already satisfied: retrying in c:\\users\\rupesh\\anaconda3\\lib\\site-packages (from dash) (1.3.4)\n",
      "Requirement already satisfied: ansi2html in c:\\users\\rupesh\\anaconda3\\lib\\site-packages (from dash) (1.9.1)\n",
      "Requirement already satisfied: nest-asyncio in c:\\users\\rupesh\\anaconda3\\lib\\site-packages (from dash) (1.5.6)\n",
      "Requirement already satisfied: setuptools in c:\\users\\rupesh\\anaconda3\\lib\\site-packages (from dash) (68.2.2)\n",
      "Requirement already satisfied: importlib-metadata in c:\\users\\rupesh\\anaconda3\\lib\\site-packages (from dash) (7.0.0)\n",
      "Requirement already satisfied: numpy<2,>=1.23.2 in c:\\users\\rupesh\\anaconda3\\lib\\site-packages (from pandas) (1.26.3)\n",
      "Requirement already satisfied: python-dateutil>=2.8.2 in c:\\users\\rupesh\\anaconda3\\lib\\site-packages (from pandas) (2.8.2)\n",
      "Requirement already satisfied: pytz>=2020.1 in c:\\users\\rupesh\\anaconda3\\lib\\site-packages (from pandas) (2023.3.post1)\n",
      "Requirement already satisfied: tzdata>=2022.1 in c:\\users\\rupesh\\anaconda3\\lib\\site-packages (from pandas) (2023.3)\n",
      "Requirement already satisfied: tenacity>=6.2.0 in c:\\users\\rupesh\\anaconda3\\lib\\site-packages (from plotly) (8.2.2)\n",
      "Requirement already satisfied: Jinja2>=3.0 in c:\\users\\rupesh\\anaconda3\\lib\\site-packages (from Flask<3.1,>=1.0.4->dash) (3.1.2)\n",
      "Requirement already satisfied: itsdangerous>=2.0 in c:\\users\\rupesh\\anaconda3\\lib\\site-packages (from Flask<3.1,>=1.0.4->dash) (2.0.1)\n",
      "Requirement already satisfied: click>=8.0 in c:\\users\\rupesh\\anaconda3\\lib\\site-packages (from Flask<3.1,>=1.0.4->dash) (8.1.7)\n",
      "Requirement already satisfied: six>=1.5 in c:\\users\\rupesh\\anaconda3\\lib\\site-packages (from python-dateutil>=2.8.2->pandas) (1.16.0)\n",
      "Requirement already satisfied: MarkupSafe>=2.1.1 in c:\\users\\rupesh\\anaconda3\\lib\\site-packages (from Werkzeug<3.1->dash) (2.1.3)\n",
      "Requirement already satisfied: zipp>=0.5 in c:\\users\\rupesh\\anaconda3\\lib\\site-packages (from importlib-metadata->dash) (3.17.0)\n",
      "Requirement already satisfied: charset-normalizer<4,>=2 in c:\\users\\rupesh\\anaconda3\\lib\\site-packages (from requests->dash) (2.0.4)\n",
      "Requirement already satisfied: idna<4,>=2.5 in c:\\users\\rupesh\\anaconda3\\lib\\site-packages (from requests->dash) (3.4)\n",
      "Requirement already satisfied: urllib3<3,>=1.21.1 in c:\\users\\rupesh\\anaconda3\\lib\\site-packages (from requests->dash) (1.26.18)\n",
      "Requirement already satisfied: certifi>=2017.4.17 in c:\\users\\rupesh\\anaconda3\\lib\\site-packages (from requests->dash) (2023.11.17)\n",
      "Requirement already satisfied: colorama in c:\\users\\rupesh\\anaconda3\\lib\\site-packages (from click>=8.0->Flask<3.1,>=1.0.4->dash) (0.4.6)\n"
     ]
    }
   ],
   "source": [
    "!pip install dash pandas plotly\n"
   ]
  },
  {
   "cell_type": "code",
   "execution_count": 2,
   "metadata": {
    "colab": {
     "base_uri": "https://localhost:8080/",
     "height": 671
    },
    "id": "6T4N0UKTJ7KC",
    "outputId": "99436409-032a-4806-bccf-127a82c2810f"
   },
   "outputs": [
    {
     "data": {
      "text/html": [
       "\n",
       "        <iframe\n",
       "            width=\"100%\"\n",
       "            height=\"650\"\n",
       "            src=\"http://127.0.0.1:8050/\"\n",
       "            frameborder=\"0\"\n",
       "            allowfullscreen\n",
       "            \n",
       "        ></iframe>\n",
       "        "
      ],
      "text/plain": [
       "<IPython.lib.display.IFrame at 0x1a75dd62690>"
      ]
     },
     "metadata": {},
     "output_type": "display_data"
    }
   ],
   "source": [
    "import dash\n",
    "from dash import dcc, html\n",
    "from dash.dependencies import Input, Output\n",
    "import pandas as pd\n",
    "import plotly.express as px\n",
    "\n",
    "# Load your dataset\n",
    "# Assuming 'df' is your pandas DataFrame\n",
    "# Replace 'your_dataset.csv' with the actual file path or URL\n",
    "df = pd.read_csv('owid-co2-data.csv')\n",
    "\n",
    "# Dash App\n",
    "app = dash.Dash(__name__)\n",
    "\n",
    "# Layout\n",
    "app.layout = html.Div([\n",
    "    html.H1('Combined Emission Dashboard'),\n",
    "\n",
    "    # Tabs for Cement Industry and Country-wise Emission Overview\n",
    "    dcc.Tabs([\n",
    "        dcc.Tab(label='Cement Industry', children=[\n",
    "            dcc.Graph(\n",
    "                id='share-of-global-cement-co2',\n",
    "                figure=px.line(df[['year', 'cumulative_cement_co2']], x='year', y='cumulative_cement_co2',\n",
    "                               labels={'cumulative_cement_co2': 'Cumulative Cement CO2 Emissions'},\n",
    "                               title='Cumulative Cement CO2 Emissions Over Time')\n",
    "            ),\n",
    "\n",
    "            dcc.Graph(\n",
    "                id='cement-co2-per-capita',\n",
    "                figure=px.line(df[['year', 'cement_co2_per_capita', 'cement_co2']], x='year',\n",
    "                               y=['cement_co2_per_capita', 'cement_co2'],\n",
    "                               labels={'value': 'Emissions'},\n",
    "                               title='Cement CO2 Per Capita and Contribution to Overall Emissions')\n",
    "            )\n",
    "        ]),\n",
    "\n",
    "        dcc.Tab(label='Country-wise Overview', children=[\n",
    "            # Dropdown for selecting specific years\n",
    "            dcc.Dropdown(\n",
    "                id='year-dropdown',\n",
    "                options=[{'label': year, 'value': year} for year in df['year'].unique()],\n",
    "                value=df['year'].max(),\n",
    "                multi=False,\n",
    "                style={'width': '50%'}\n",
    "            ),\n",
    "\n",
    "            # World map with countries color-coded based on their total CO2 emissions\n",
    "            dcc.Graph(\n",
    "                id='world-map',\n",
    "            ),\n",
    "\n",
    "            # Additional charts for per capita emissions, GDP correlation, and population growth\n",
    "            dcc.Graph(\n",
    "                id='per-capita-emissions',\n",
    "            ),\n",
    "\n",
    "            dcc.Graph(\n",
    "                id='gdp-correlation',\n",
    "            ),\n",
    "\n",
    "            dcc.Graph(\n",
    "                id='population-growth',\n",
    "            ),\n",
    "        ]),\n",
    "    ])\n",
    "])\n",
    "\n",
    "# Callback for updating the charts based on the selected year\n",
    "@app.callback(\n",
    "    [Output('world-map', 'figure'),\n",
    "     Output('per-capita-emissions', 'figure'),\n",
    "     Output('gdp-correlation', 'figure'),\n",
    "     Output('population-growth', 'figure')],\n",
    "    [Input('year-dropdown', 'value')]\n",
    ")\n",
    "def update_charts(selected_year):\n",
    "    # Filter data for the selected year\n",
    "    filtered_df = df[df['year'] == selected_year]\n",
    "\n",
    "    # World map with countries color-coded based on their total CO2 emissions\n",
    "    map_fig = px.choropleth(filtered_df,\n",
    "                            locations='iso_code',\n",
    "                            color='co2',\n",
    "                            hover_name='country',\n",
    "                            title=f'Total CO2 Emissions by Country - {selected_year}')\n",
    "\n",
    "    # Per capita emissions\n",
    "    per_capita_fig = px.bar(filtered_df,\n",
    "                            x='country',\n",
    "                            y='co2_per_capita',\n",
    "                            title=f'Per Capita CO2 Emissions by Country - {selected_year}')\n",
    "\n",
    "    # GDP correlation\n",
    "    gdp_correlation_fig = px.scatter(filtered_df,\n",
    "                                     x='gdp',\n",
    "                                     y='co2',\n",
    "                                     color='country',\n",
    "                                     title=f'GDP Correlation with CO2 Emissions - {selected_year}')\n",
    "\n",
    "    # Population growth\n",
    "    population_growth_fig = px.line(filtered_df,\n",
    "                                    x='country',\n",
    "                                    y='population',\n",
    "                                    title=f'Population Growth by Country - {selected_year}')\n",
    "\n",
    "    return map_fig, per_capita_fig, gdp_correlation_fig, population_growth_fig\n",
    "\n",
    "\n",
    "if __name__ == '__main__':\n",
    "    app.run_server(debug=True)\n"
   ]
  },
  {
   "cell_type": "code",
   "execution_count": null,
   "metadata": {
    "id": "yk5o5G6AJ-BI"
   },
   "outputs": [],
   "source": [
    "'''ANALYSIS REPORT\n",
    "\n",
    "Overall, cumulative CO2 emissions from cement production have increased dramatically since 1750. In 2022, cumulative CO2 emissions \n",
    "from cement production were about 1.7 trillion tonnes.\n",
    "The rate of increase in CO2 emissions from cement production has accelerated in recent decades. This is due in part to the rapid growth of \n",
    "the construction industry in many developing countries.\n",
    "China is the largest emitter of CO2 from cement production, followed by India and the United States. In 2022, China emitted about 30% of \n",
    "global CO2 emissions from cement production, India emitted about 12%, and the United States emitted about 6%."
   ]
  },
  {
   "cell_type": "code",
   "execution_count": null,
   "metadata": {},
   "outputs": [],
   "source": [
    "'''The countries with the highest per capita CO2 emissions are the United States, Canada, and Australia. These countries have large economies and \n",
    "are heavily reliant on fossil fuels for energy.\n",
    "The countries with the lowest per capita CO2 emissions are many African countries, including Burundi, Malawi, and Niger. These countries are generally\n",
    "poor and have small economies.\n",
    "There is a large variation in per capita CO2 emissions between countries. The United States, for example, has per capita CO2 emissions that are more\n",
    "than 10 times higher than those of Niger.\n",
    "There are a number of factors that contribute to the variation in per capita CO2 emissions between countries. These include:\n",
    "\n",
    "Level of economic development: Countries with higher levels of economic development tend to have higher per capita CO2 emissions. \n",
    "This is because economic activity is often associated with energy consumption, and fossil fuels are the most common source of energy.\n",
    "Reliance on fossil fuels: Countries that are more reliant on fossil fuels for energy tend to have higher per capita CO2 emissions.\n",
    "Energy efficiency: Countries that are more energy efficient tend to have lower per capita CO2 emissions.\n",
    "Population density: Countries with higher population densities tend to have lower per capita CO2 emissions. This is because people in \n",
    "densely populated countries tend to live in cities, where they have access to public transportation and other energy-efficient forms of transportation."
   ]
  },
  {
   "cell_type": "code",
   "execution_count": null,
   "metadata": {},
   "outputs": [],
   "source": [
    "'''The charts here can be interacted by selecting the particular year one want to analyse the population growth , GDP Co-relation with CO2 emissions etc. The chart shows the GDP Correlation with CO2 Emissions for various countries in 2000.\n",
    "\n",
    "The chart currently indicates a weak positive correlation between GDP and CO2 emissions. This means that as GDP increases, CO2 emissions also tend to \n",
    "increase, but the relationship is not very strong. There are a number of countries that deviate from this trend, such as:\n",
    "\n",
    "Norway: Norway has a relatively high GDP but low CO2 emissions. This is because Norway is a major producer of hydroelectricity, which is a clean source\n",
    "of energy.\n",
    "Iceland: Iceland also has a high GDP and low CO2 emissions. This is because Iceland gets most of its energy from geothermal power.\n",
    "Bolivia: Bolivia has a relatively low GDP and low CO2 emissions. This is because Bolivia is a poor country with a small economy."
   ]
  }
 ],
 "metadata": {
  "colab": {
   "provenance": []
  },
  "kernelspec": {
   "display_name": "Python 3 (ipykernel)",
   "language": "python",
   "name": "python3"
  },
  "language_info": {
   "codemirror_mode": {
    "name": "ipython",
    "version": 3
   },
   "file_extension": ".py",
   "mimetype": "text/x-python",
   "name": "python",
   "nbconvert_exporter": "python",
   "pygments_lexer": "ipython3",
   "version": "3.11.5"
  }
 },
 "nbformat": 4,
 "nbformat_minor": 4
}
